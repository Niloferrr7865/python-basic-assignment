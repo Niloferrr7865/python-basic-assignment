{
  "nbformat": 4,
  "nbformat_minor": 0,
  "metadata": {
    "colab": {
      "provenance": []
    },
    "kernelspec": {
      "name": "python3",
      "display_name": "Python 3"
    },
    "language_info": {
      "name": "python"
    }
  },
  "cells": [
    {
      "cell_type": "markdown",
      "source": [],
      "metadata": {
        "id": "8b7kQEwyr2Cp"
      }
    },
    {
      "cell_type": "markdown",
      "source": [
        "**1**.what is python and why is it popular?\n",
        "\n",
        "- 1.python is a high level interpreted programming language.\n",
        "\n",
        "- 2. python is known for it's simplicity,readability and versatility.\n",
        "\n",
        "   3. python code is very easy to learn and read.\n",
        "\n",
        "   4. python is in high demand in job market and thousands of librarires are available for almost every task,saving time and effort.\n",
        "\n",
        "**2**.  what is an interpreter in python?\n",
        "\n",
        "  -> 1. An interpreter in python is a special program that reads and executes   your python code line by line, instead of compiling the entire program into\n",
        "  machine code first.\n",
        "\n",
        "  2. It executes one statement at a time.\n",
        "\n",
        "  3. It has slower runtime as code is executed one by one.\n",
        "\n",
        "   4. Example :- python, javascript, ruby."
      ],
      "metadata": {
        "id": "I3oQvoIzkO3t"
      }
    },
    {
      "cell_type": "markdown",
      "source": [
        "**3**. What are pre defined keyword in python?\n",
        "\n",
        "-> 1. prdefined keyword in python are special reserved words that have a fixed meaning and cannot be used as variable names, function name or identifiers.\n",
        "\n",
        "  2. Python uses these keywords to define the syntax and structure of the language.\n",
        "\n",
        "**4.** Can keywords be used as variable names?\n",
        "\n",
        "-> 1. No, keywords can't be used as variable names in python.\n",
        "\n",
        "  2 . It will throw syntax error if you try to use variable name as keyword in python.\n",
        "\n",
        "**5 .** WHAT IS MUTABILITY IN PYTHON?\n",
        "\n",
        "-> 1. mutability in python refers to whether the value of an object can be changed after it is created.\n",
        "\n",
        "2. mutable objects can be modified and changed after creation.\n",
        "3. examples:- list, set\n",
        "\n",
        "**6 .** WHY ARE LIST MUTABLE BUT TUPLES ARE IMMUTABLE?\n",
        "\n",
        "-> 1. Python intentionally makes list mutabble and tuples immutable because they are meant to be used in different situations.\n",
        "\n",
        "2. list are used for dynamic data which needs frequent changes.\n",
        "3. Tuples are designed for fix data, any 'change' results in a completely new tuple being created.\n",
        "\n",
        "**7 .** WHAT IS THE DIFFERENCE BETWEEN \"==\" and \"is\" OPERATORS IN PYTHON?\n",
        "\n",
        "-> 1. \"==\" is used for 'equality'. It checks if values are same.\n",
        "\n",
        "2. \"is\" is used for 'identity'. IT checks if memory address are the same.\n",
        "\n",
        "**8 .** WHAT ARE LOGICAL OPERATORS IN PYTHON?\n",
        "\n",
        "-> 1. Logical operators are used to combine condtional statements.\n",
        "\n",
        "2. types of logical operator are \"And, Or, Not\".\n",
        "\n",
        "\n"
      ],
      "metadata": {
        "id": "yJWFE9fHr_sX"
      }
    },
    {
      "cell_type": "markdown",
      "source": [
        "**9 .** WHAT IS TYPE CASTING IN PYTHON?\n",
        "\n",
        "-> 1. The process of changing or converting one data type into another value or object is called as \"type casting\".\n",
        "\n",
        "2. when there is mismatch between data you want to operate with, type casting is used to change it.\n",
        "3. example:- \"2\"+3 = str + int\n",
        "\n",
        "      by using type casting\n",
        "\n",
        "     a= \"2\" str\n",
        "\n",
        "     b= 3\n",
        "\n",
        "     a+b\n",
        "\n",
        "   => int(a)+b\n",
        "\n",
        "**10 .**  DIFFERENT BETWEEN IMPLICIT AND EXPLICIT TYPE CASTING?\n",
        "\n",
        "-> **IMPLICIT TYPE CASTING :**\n",
        "\n",
        "1. Its done automatically by python.\n",
        "\n",
        "2. there is no loss of data.\n",
        "3. example: 2 + 3.5 =5.5\n",
        "\n",
        "  **EXPLICIT TYPE CASTING:**\n",
        "  1. Its Done manually by the programmer.\n",
        "  2. It might lose data or cause errors.\n",
        "  3. example: int(\"100\") + 5 = 105\n",
        "\n",
        "\n",
        "**11 .** PURPOSE OF CONDITIONAL STATEMENTS IN PYTHON?\n",
        "\n",
        "-> 1. Conditional satement allow a program to make decisions and execute different code depending on conditions.\n",
        "\n",
        "2. example:\n",
        "\n"
      ],
      "metadata": {
        "id": "yuL2RT_L1W5B"
      }
    },
    {
      "cell_type": "code",
      "source": [
        "age=18\n",
        "if age>=18:\n",
        "  print(\"you are eligible to vote\")\n",
        "else:\n",
        "  print(\"you are not eligible to vote\")\n"
      ],
      "metadata": {
        "colab": {
          "base_uri": "https://localhost:8080/"
        },
        "id": "ZAOM3Hqk64qU",
        "outputId": "9099c43e-7270-4cb8-cf51-0b39d455c691"
      },
      "execution_count": 2,
      "outputs": [
        {
          "output_type": "stream",
          "name": "stdout",
          "text": [
            "you are eligible to vote\n"
          ]
        }
      ]
    },
    {
      "cell_type": "markdown",
      "source": [
        "**12 .** HOW THE STATEMENT ELIF STATEMENT WORKS?\n",
        "\n",
        "-> 1. The elif statement  in pyhton is used for multiple condition checks.\n",
        "2. Its stand for for \"else if\" and allows to check more than one conditin after an initial if.\n",
        "3. elif checks another condition if the previous one was false.\n",
        "\n",
        "**13 .** DIFFERENCE BETEWEEN FOR and WHILE LOOPS\n",
        "\n",
        "-> 1. for loop is used when the number of iterations is 'known'.\n",
        "\n",
        "   2. while loop is used when the number of iteration is 'unknown'\n",
        "   3.for loop iterates over a sequence (range, list, string).\n",
        "   4. while loop runs as long as a condition is true.\n",
        "   5.for loop example: for i in range(5)\n",
        "   6. while loop example:  while i<5\n",
        "\n",
        "**14.** DESCRIBE SCENARIO WHERE WHILE LOOPS ARE MORE SUITABLE THAN FOR LOOP\n",
        "\n",
        "-> 1.Use 'while loop' if you dont know how many times the loop should run.\n",
        "\n",
        "2.EXAMPLE:\n",
        "\n",
        "password=\"\"\n",
        "\n",
        "while password != \"secret\":\n",
        "\n",
        "  password = input(\" enter your password:\")  \n",
        "  if password != \"secret\":\n",
        "\n",
        "    print(\"incorrect password. try again!\")\n",
        "\n",
        "    print(\"access granted!\")"
      ],
      "metadata": {
        "id": "wSFNTke67Ral"
      }
    },
    {
      "cell_type": "code",
      "source": [
        "# 1. write a python program to print \"hello world!\"\n",
        "print(\"hello world!\")"
      ],
      "metadata": {
        "colab": {
          "base_uri": "https://localhost:8080/"
        },
        "id": "c8B0tHQ6CQt9",
        "outputId": "e86bd07d-6ce8-441c-b164-f6228826d6c5"
      },
      "execution_count": 3,
      "outputs": [
        {
          "output_type": "stream",
          "name": "stdout",
          "text": [
            "hello world!\n"
          ]
        }
      ]
    },
    {
      "cell_type": "code",
      "source": [
        "#2. write a pyhton program that displays your name and age.\n",
        "name = input (\"enter your name \")\n",
        "age = input (\"enter your age \")\n",
        "print(\" hello, my name is\", name , \"and i am\",age , \"years old.\" )\n"
      ],
      "metadata": {
        "colab": {
          "base_uri": "https://localhost:8080/"
        },
        "id": "O3F-fYVNC0wl",
        "outputId": "ff635c7a-06b3-40a5-c49c-45576ecbb191"
      },
      "execution_count": 5,
      "outputs": [
        {
          "output_type": "stream",
          "name": "stdout",
          "text": [
            "enter your name nilofer\n",
            "enter your age 21\n",
            " hello, my name is nilofer and i am 21 years old.\n"
          ]
        }
      ]
    },
    {
      "cell_type": "code",
      "source": [
        "#3. write a code to print all the pre defined keywords in python using the keyword library.\n",
        "\n",
        "import keyword\n",
        "\n",
        "# Get the list of all Python keywords\n",
        "keywords_list = keyword.kwlist\n",
        "\n",
        "# Display the keywords\n",
        "print(\"The predefined keywords in Python are:\\n\")\n",
        "for kw in keywords_list:\n",
        "    print(kw)\n",
        "\n",
        "# Display total count\n",
        "print(\"\\nTotal number of keywords:\", len(keywords_list))"
      ],
      "metadata": {
        "colab": {
          "base_uri": "https://localhost:8080/"
        },
        "id": "UqSuKCiwETSS",
        "outputId": "dbea02e9-d01a-430e-d536-5304fb2cc95e"
      },
      "execution_count": 6,
      "outputs": [
        {
          "output_type": "stream",
          "name": "stdout",
          "text": [
            "The predefined keywords in Python are:\n",
            "\n",
            "False\n",
            "None\n",
            "True\n",
            "and\n",
            "as\n",
            "assert\n",
            "async\n",
            "await\n",
            "break\n",
            "class\n",
            "continue\n",
            "def\n",
            "del\n",
            "elif\n",
            "else\n",
            "except\n",
            "finally\n",
            "for\n",
            "from\n",
            "global\n",
            "if\n",
            "import\n",
            "in\n",
            "is\n",
            "lambda\n",
            "nonlocal\n",
            "not\n",
            "or\n",
            "pass\n",
            "raise\n",
            "return\n",
            "try\n",
            "while\n",
            "with\n",
            "yield\n",
            "\n",
            "Total number of keywords: 35\n"
          ]
        }
      ]
    },
    {
      "cell_type": "code",
      "source": [
        "# 4. write a program that checks if a given word is python keyword.\n",
        "\n",
        "import keyword\n",
        "\n",
        "# Take input from the user\n",
        "word = input(\"Enter a word: \")\n",
        "\n",
        "# Check if it's a Python keyword\n",
        "if keyword.iskeyword(word):\n",
        "    print(f\"'{word}' is a Python keyword.\")\n",
        "else:\n",
        "    print(f\"'{word}' is NOT a Python keyword.\")\n"
      ],
      "metadata": {
        "colab": {
          "base_uri": "https://localhost:8080/"
        },
        "id": "4NAH3QuDFPDs",
        "outputId": "38b3730c-2a5d-4080-a7ab-1eadd1b5e011"
      },
      "execution_count": 8,
      "outputs": [
        {
          "output_type": "stream",
          "name": "stdout",
          "text": [
            "Enter a word: apple\n",
            "'apple' is NOT a Python keyword.\n"
          ]
        }
      ]
    },
    {
      "cell_type": "code",
      "source": [
        "# 5.create list and tuple in python and demonstrate how attempting to chane ements work differently for each.\n",
        "# Creating a list\n",
        "my_list = [10, 20, 30, 40]\n",
        "print(\"Original List:\", my_list)\n",
        "\n",
        "# Modifying an element in the list\n",
        "my_list[1] = 25\n",
        "print(\"Modified List:\", my_list)  # Lists are mutable, so this works\n",
        "\n",
        "# Creating a tuple\n",
        "my_tuple = (10, 20, 30, 40)\n",
        "print(\"\\nOriginal Tuple:\", my_tuple)\n",
        "\n",
        "# Trying to modify an element in the tuple\n",
        "try:\n",
        "    my_tuple[1] = 25  # Tuples are immutable, so this will cause an error\n",
        "except TypeError as e:\n",
        "    print(\"Error while modifying tuple:\", e)"
      ],
      "metadata": {
        "colab": {
          "base_uri": "https://localhost:8080/"
        },
        "id": "eVDrhzOWGgrj",
        "outputId": "b28191ba-991c-455f-a6ba-b4bbe6ea7458"
      },
      "execution_count": 9,
      "outputs": [
        {
          "output_type": "stream",
          "name": "stdout",
          "text": [
            "Original List: [10, 20, 30, 40]\n",
            "Modified List: [10, 25, 30, 40]\n",
            "\n",
            "Original Tuple: (10, 20, 30, 40)\n",
            "Error while modifying tuple: 'tuple' object does not support item assignment\n"
          ]
        }
      ]
    },
    {
      "cell_type": "code",
      "source": [
        "# 6. write a function to demonstrate the behaviour of mutable and immutable arguments.\n",
        "\n",
        "def modify_values(num, lst):\n",
        "    print(\"\\nInside function (before modification):\")\n",
        "    print(\"num =\", num)\n",
        "    print(\"lst =\", lst)\n",
        "\n",
        "    # Attempt to modify immutable argument\n",
        "    num += 10\n",
        "\n",
        "    # Modify mutable argument\n",
        "    lst.append(100)\n",
        "\n",
        "    print(\"\\nInside function (after modification):\")\n",
        "    print(\"num =\", num)\n",
        "    print(\"lst =\", lst)\n",
        "\n",
        "# Immutable argument\n",
        "a = 50\n",
        "\n",
        "# Mutable argument\n",
        "b = [1, 2, 3]\n",
        "\n",
        "print(\"Before function call:\")\n",
        "print(\"a =\", a)\n",
        "print(\"b =\", b)\n",
        "\n",
        "# Call the function\n",
        "modify_values(a, b)\n",
        "\n",
        "print(\"\\nAfter function call:\")\n",
        "print(\"a =\", a)  # Immutable value remains unchanged\n",
        "print(\"b =\", b)  # Mutable value is changed"
      ],
      "metadata": {
        "colab": {
          "base_uri": "https://localhost:8080/"
        },
        "id": "GopKsCIdHY40",
        "outputId": "ba1fc9e0-8f36-41f5-bcf8-4bf7e8e96081"
      },
      "execution_count": 10,
      "outputs": [
        {
          "output_type": "stream",
          "name": "stdout",
          "text": [
            "Before function call:\n",
            "a = 50\n",
            "b = [1, 2, 3]\n",
            "\n",
            "Inside function (before modification):\n",
            "num = 50\n",
            "lst = [1, 2, 3]\n",
            "\n",
            "Inside function (after modification):\n",
            "num = 60\n",
            "lst = [1, 2, 3, 100]\n",
            "\n",
            "After function call:\n",
            "a = 50\n",
            "b = [1, 2, 3, 100]\n"
          ]
        }
      ]
    },
    {
      "cell_type": "code",
      "source": [
        "# 7. write a program that performs basic arithmetic operations on two user input number.\n",
        "\n",
        "# Take input from the user\n",
        "num1 = float(input(\"Enter the first number: \"))\n",
        "num2 = float(input(\"Enter the second number: \"))\n",
        "\n",
        "# Perform arithmetic operations\n",
        "addition = num1 + num2\n",
        "subtraction = num1 - num2\n",
        "multiplication = num1 * num2\n",
        "division = num1 / num2 if num2 != 0 else \"Undefined (division by zero)\"\n",
        "modulus = num1 % num2 if num2 != 0 else \"Undefined (division by zero)\"\n",
        "\n",
        "# Display results\n",
        "print(\"\\nArithmetic Operations Results:\")\n",
        "print(f\"{num1} + {num2} = {addition}\")\n",
        "print(f\"{num1} - {num2} = {subtraction}\")\n",
        "print(f\"{num1} * {num2} = {multiplication}\")\n",
        "print(f\"{num1} / {num2} = {division}\")\n",
        "print(f\"{num1} % {num2} = {modulus}\")"
      ],
      "metadata": {
        "colab": {
          "base_uri": "https://localhost:8080/"
        },
        "id": "V1g80IkNIKs5",
        "outputId": "b4375188-cd22-4832-b098-0fd92729e63d"
      },
      "execution_count": 12,
      "outputs": [
        {
          "output_type": "stream",
          "name": "stdout",
          "text": [
            "Enter the first number: 10\n",
            "Enter the second number: 3\n",
            "\n",
            "Arithmetic Operations Results:\n",
            "10.0 + 3.0 = 13.0\n",
            "10.0 - 3.0 = 7.0\n",
            "10.0 * 3.0 = 30.0\n",
            "10.0 / 3.0 = 3.3333333333333335\n",
            "10.0 % 3.0 = 1.0\n"
          ]
        }
      ]
    },
    {
      "cell_type": "code",
      "source": [
        "#8. program to demonstrate the use of logical operators.\n",
        "# Take input from the user\n",
        "a = int(input(\"Enter first number: \"))\n",
        "b = int(input(\"Enter second number: \"))\n",
        "\n",
        "# Logical AND\n",
        "and_result = (a > 0) and (b > 0)\n",
        "\n",
        "# Logical OR\n",
        "or_result = (a > 0) or (b > 0)\n",
        "\n",
        "# Logical NOT\n",
        "not_result_a = not (a > 0)\n",
        "not_result_b = not (b > 0)\n",
        "\n",
        "# Display results\n",
        "print(\"\\nLogical Operations Results:\")\n",
        "print(f\"({a} > 0) and ({b} > 0) is {and_result}\")\n",
        "print(f\"({a} > 0) or ({b} > 0) is {or_result}\")\n",
        "print(f\"not ({a} > 0) is {not_result_a}\")\n",
        "print(f\"not ({b} > 0) is {not_result_b}\")"
      ],
      "metadata": {
        "colab": {
          "base_uri": "https://localhost:8080/"
        },
        "id": "fcsGnOTmJT3I",
        "outputId": "52f19977-f725-42b8-b61e-c81a066fb01a"
      },
      "execution_count": 13,
      "outputs": [
        {
          "output_type": "stream",
          "name": "stdout",
          "text": [
            "Enter first number: 5\n",
            "Enter second number: -3\n",
            "\n",
            "Logical Operations Results:\n",
            "(5 > 0) and (-3 > 0) is False\n",
            "(5 > 0) or (-3 > 0) is True\n",
            "not (5 > 0) is False\n",
            "not (-3 > 0) is True\n"
          ]
        }
      ]
    },
    {
      "cell_type": "code",
      "source": [
        "#9.Program to convert user input to different data types\n",
        "\n",
        "# Take input from the user (always as a string)\n",
        "user_input = input(\"Enter something: \")\n",
        "\n",
        "# Convert to integer\n",
        "try:\n",
        "    int_value = int(user_input)\n",
        "except ValueError:\n",
        "    int_value = \"Cannot convert to integer\"\n",
        "\n",
        "# Convert to float\n",
        "try:\n",
        "    float_value = float(user_input)\n",
        "except ValueError:\n",
        "    float_value = \"Cannot convert to float\"\n",
        "\n",
        "# Convert to boolean\n",
        "# In Python, any non-empty string is True, empty string is False\n",
        "bool_value = bool(user_input)\n",
        "\n",
        "# Display results\n",
        "print(\"\\nConverted Values:\")\n",
        "print(\"Original input (string):\", user_input)\n",
        "print(\"As integer:\", int_value)\n",
        "print(\"As float:\", float_value)\n",
        "print(\"As boolean:\", bool_value)"
      ],
      "metadata": {
        "colab": {
          "base_uri": "https://localhost:8080/"
        },
        "id": "rnIdaD1eJ8LX",
        "outputId": "3f73a6e6-73b8-4a83-82f6-25a4dbb685f3"
      },
      "execution_count": 14,
      "outputs": [
        {
          "output_type": "stream",
          "name": "stdout",
          "text": [
            "Enter something: 123\n",
            "\n",
            "Converted Values:\n",
            "Original input (string): 123\n",
            "As integer: 123\n",
            "As float: 123.0\n",
            "As boolean: True\n"
          ]
        }
      ]
    },
    {
      "cell_type": "code",
      "source": [
        "#10. code to demonstrate type casting with lsit elements\n",
        "#Original list with string numbers\n",
        "string_list = [\"10\", \"20\", \"30\", \"40\"]\n",
        "print(\"Original List (strings):\", string_list)\n",
        "\n",
        "# Convert each element to integer\n",
        "int_list = [int(x) for x in string_list]\n",
        "print(\"List after converting to integers:\", int_list)\n",
        "\n",
        "# Convert each element to float\n",
        "float_list = [float(x) for x in string_list]\n",
        "print(\"List after converting to floats:\", float_list)\n",
        "\n",
        "# Convert integers back to strings\n",
        "str_list_again = [str(x) for x in int_list]\n",
        "print(\"List after converting integers back to strings:\", str_list_again)"
      ],
      "metadata": {
        "colab": {
          "base_uri": "https://localhost:8080/"
        },
        "id": "MJDea8vKKbyV",
        "outputId": "96c4dd3e-e1ad-4470-b231-7725be8a732f"
      },
      "execution_count": 15,
      "outputs": [
        {
          "output_type": "stream",
          "name": "stdout",
          "text": [
            "Original List (strings): ['10', '20', '30', '40']\n",
            "List after converting to integers: [10, 20, 30, 40]\n",
            "List after converting to floats: [10.0, 20.0, 30.0, 40.0]\n",
            "List after converting integers back to strings: ['10', '20', '30', '40']\n"
          ]
        }
      ]
    },
    {
      "cell_type": "code",
      "source": [
        "# 11. program that checks if a number is positive, negative or zero\n",
        "# Take input from the user\n",
        "num = float(input(\"Enter a number: \"))\n",
        "\n",
        "# Check the number\n",
        "if num > 0:\n",
        "    print(f\"{num} is a positive number.\")\n",
        "elif num < 0:\n",
        "    print(f\"{num} is a negative number.\")\n",
        "else:\n",
        "    print(\"The number is zero.\")"
      ],
      "metadata": {
        "colab": {
          "base_uri": "https://localhost:8080/"
        },
        "id": "nvAUsAvHLALN",
        "outputId": "db1cd74a-775e-414d-c503-79858512778a"
      },
      "execution_count": 16,
      "outputs": [
        {
          "output_type": "stream",
          "name": "stdout",
          "text": [
            "Enter a number: 28\n",
            "28.0 is a positive number.\n"
          ]
        }
      ]
    },
    {
      "cell_type": "code",
      "source": [
        "#12. write a for loop to print a number from 1 to 10.\n",
        "for i in range(1,11):\n",
        "  print(i)\n"
      ],
      "metadata": {
        "colab": {
          "base_uri": "https://localhost:8080/"
        },
        "id": "1aND2VA2Lk66",
        "outputId": "19a2c4ce-2873-46f7-e52e-a75b8bedd033"
      },
      "execution_count": 18,
      "outputs": [
        {
          "output_type": "stream",
          "name": "stdout",
          "text": [
            "1\n",
            "2\n",
            "3\n",
            "4\n",
            "5\n",
            "6\n",
            "7\n",
            "8\n",
            "9\n",
            "10\n"
          ]
        }
      ]
    },
    {
      "cell_type": "code",
      "source": [
        "# 13. # Program to find the sum of all even numbers between 1 and 50\n",
        "\n",
        "# Using a for loop\n",
        "sum_even = 0\n",
        "for num in range(1, 51):\n",
        "    if num % 2 == 0:\n",
        "        sum_even += num\n",
        "\n",
        "print(\"The sum of all even numbers between 1 and 50 is:\", sum_even)"
      ],
      "metadata": {
        "colab": {
          "base_uri": "https://localhost:8080/"
        },
        "id": "tSAVkpzoMIS8",
        "outputId": "03b57bf1-b1c6-4f9e-9ad7-1cfce2b4bdf3"
      },
      "execution_count": 19,
      "outputs": [
        {
          "output_type": "stream",
          "name": "stdout",
          "text": [
            "The sum of all even numbers between 1 and 50 is: 650\n"
          ]
        }
      ]
    },
    {
      "cell_type": "code",
      "source": [
        "#14.program to reverse a string using a while loop.\n",
        "# Take input from the user\n",
        "original_string = input(\"Enter a string: \")\n",
        "\n",
        "# Initialize variables\n",
        "reversed_string = \"\"\n",
        "index = len(original_string) - 1  # Start from the last character\n",
        "\n",
        "# Loop to reverse the string\n",
        "while index >= 0:\n",
        "    reversed_string += original_string[index]\n",
        "    index -= 1\n",
        "\n",
        "# Display the result\n",
        "print(\"Reversed string:\", reversed_string)"
      ],
      "metadata": {
        "colab": {
          "base_uri": "https://localhost:8080/"
        },
        "id": "_WhWA1rvMmnQ",
        "outputId": "6748ecc3-4370-4a6c-f517-76fcf0f423e3"
      },
      "execution_count": 20,
      "outputs": [
        {
          "output_type": "stream",
          "name": "stdout",
          "text": [
            "Enter a string:  python\n",
            "Reversed string: nohtyp \n"
          ]
        }
      ]
    },
    {
      "cell_type": "code",
      "source": [
        "#15.# Program to calculate factorial using while loop.\n",
        "\n",
        "# Take input from the user\n",
        "num = int(input(\"Enter a non-negative integer: \"))\n",
        "\n",
        "# Initialize variables\n",
        "factorial = 1\n",
        "counter = num\n",
        "\n",
        "# Check for negative input\n",
        "if num < 0:\n",
        "    print(\"Factorial is not defined for negative numbers.\")\n",
        "else:\n",
        "    # Calculate factorial using while loop\n",
        "    while counter > 0:\n",
        "        factorial *= counter\n",
        "        counter -= 1\n",
        "\n",
        "    # Display the result\n",
        "    print(f\"The factorial of {num} is {factorial}.\")"
      ],
      "metadata": {
        "colab": {
          "base_uri": "https://localhost:8080/"
        },
        "id": "vE5O6jN7NC8M",
        "outputId": "65f6b31d-3bfa-4939-8583-39e1e536f4bc"
      },
      "execution_count": 21,
      "outputs": [
        {
          "output_type": "stream",
          "name": "stdout",
          "text": [
            "Enter a non-negative integer: 7\n",
            "The factorial of 7 is 5040.\n"
          ]
        }
      ]
    },
    {
      "cell_type": "markdown",
      "source": [],
      "metadata": {
        "id": "TuanCbY9r3zr"
      }
    },
    {
      "cell_type": "markdown",
      "source": [],
      "metadata": {
        "id": "pqvgKLCxj9dW"
      }
    }
  ]
}